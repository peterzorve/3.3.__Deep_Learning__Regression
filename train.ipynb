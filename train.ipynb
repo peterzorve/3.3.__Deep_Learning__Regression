{
 "cells": [
  {
   "attachments": {},
   "cell_type": "markdown",
   "metadata": {},
   "source": [
    "## All Imports"
   ]
  },
  {
   "cell_type": "code",
   "execution_count": 8,
   "metadata": {},
   "outputs": [],
   "source": [
    "import pandas as pd \n",
    "import numpy as np \n",
    "from sklearn.model_selection import train_test_split as tts \n",
    "import torch \n",
    "import torch.nn as nn \n",
    "import matplotlib.pyplot as plt \n",
    "# import models as md \n",
    "# from data_handler import data_loader_data_batches as dh \n",
    "import torch.optim as optim "
   ]
  },
  {
   "attachments": {},
   "cell_type": "markdown",
   "metadata": {},
   "source": [
    "## Loading the Data and Creating them into Batches"
   ]
  },
  {
   "cell_type": "code",
   "execution_count": 2,
   "metadata": {},
   "outputs": [],
   "source": [
    "def data_loader_data_batches(path, batch_size): \n",
    "    data = pd.read_csv(path)\n",
    "    data.drop(['date'], axis=1, inplace=True)\n",
    "\n",
    "    y = data['DAX'].values.astype(np.float32)                  # .values returns numpy array \n",
    "    x = data.drop(['DAX'], axis=1).values.astype(np.float32) \n",
    "\n",
    "    x, y = torch.from_numpy(x).float(), torch.from_numpy(y).float()\n",
    "    x_train, x_test, y_train, y_test = tts(x, y, test_size=0.3)\n",
    "\n",
    "    num_batches_train, num_batches_test  = x_train.shape[0] // batch_size,  x_test.shape[0] // batch_size\n",
    "\n",
    "    indexes_train, indexes_test  = np.random.permutation(x_train.shape[0]),  np.random.permutation(x_test.shape[0])          # Shuffles the index of the data \n",
    "    \n",
    "    x_train, y_train = x_train[indexes_train],  y_train[indexes_train]    \n",
    "    x_test, y_test = x_test[indexes_test], y_test[indexes_test]\n",
    "\n",
    "    x_train = x_train[ :batch_size * num_batches_train].reshape(num_batches_train, batch_size, x_train.shape[1])\n",
    "    y_train = y_train[ :batch_size * num_batches_train].reshape(num_batches_train, batch_size, 1)\n",
    "\n",
    "    x_test = x_test[ :batch_size * num_batches_test].reshape(num_batches_test, batch_size, x_test.shape[1])\n",
    "    y_test = y_test[ :batch_size * num_batches_test].reshape(num_batches_test, batch_size, 1)\n",
    "\n",
    "    return x_train, x_test, y_train, y_test"
   ]
  },
  {
   "cell_type": "code",
   "execution_count": 3,
   "metadata": {},
   "outputs": [],
   "source": [
    "x_train, x_test, y_train, y_test = data_loader_data_batches('data/turkish_stocks.csv', 100) "
   ]
  },
  {
   "attachments": {},
   "cell_type": "markdown",
   "metadata": {},
   "source": [
    "## Build Model"
   ]
  },
  {
   "cell_type": "code",
   "execution_count": 5,
   "metadata": {},
   "outputs": [],
   "source": [
    "class RegressionModel_1(nn.Module):\n",
    "     def __init__(self, input):\n",
    "          super(RegressionModel_1, self).__init__()\n",
    "          self.first_later = nn.Linear(input, 64)\n",
    "          self.second_layer = nn.Linear(64, 64)\n",
    "          self.third_layer = nn.Linear(64, 32)\n",
    "          self.last_layer = nn.Linear(32, 1)\n",
    "          self.relu = nn.ReLU()\n",
    "\n",
    "     def forward(self, x):\n",
    "          x = self.relu( self.first_later(x) )\n",
    "          x = self.relu( self.second_layer(x) )\n",
    "          x = self.relu( self.third_layer(x) )\n",
    "          x = self.last_layer(x)\n",
    "\n",
    "          return x \n",
    "\n",
    "\n",
    "class RegressionModel_2(nn.Module):\n",
    "     def __init__(self, input):\n",
    "          super(RegressionModel_2, self).__init__()\n",
    "          self.first_later = nn.Linear(input, 16)\n",
    "          self.second_layer = nn.Linear(16, 16)\n",
    "          self.third_layer = nn.Linear(16, 16)\n",
    "          self.last_layer = nn.Linear(16, 1)\n",
    "          self.relu = nn.ReLU()\n",
    "\n",
    "     def forward(self, x):\n",
    "          x = self.relu( self.first_later(x) )\n",
    "          x = self.relu( self.second_layer(x) )\n",
    "          x = self.relu( self.third_layer(x) )\n",
    "          x = self.last_layer(x)\n",
    "\n",
    "          return x "
   ]
  },
  {
   "attachments": {},
   "cell_type": "markdown",
   "metadata": {},
   "source": [
    "## Instantiate The Model"
   ]
  },
  {
   "cell_type": "code",
   "execution_count": 9,
   "metadata": {},
   "outputs": [],
   "source": [
    "model = RegressionModel_2(8)\n",
    "optimizer = optim.Adam(model.parameters(), lr=0.005)\n",
    "criterion = nn.MSELoss()\n",
    "epochs = 30"
   ]
  },
  {
   "attachments": {},
   "cell_type": "markdown",
   "metadata": {},
   "source": [
    "## Train the Model"
   ]
  },
  {
   "cell_type": "code",
   "execution_count": 11,
   "metadata": {},
   "outputs": [
    {
     "name": "stdout",
     "output_type": "stream",
     "text": [
      "epoch  1/30  |  Train Loss  : 0.00725087    |  Test Loss  : 0.00198036\n",
      "epoch  2/30  |  Train Loss  : 0.00280710    |  Test Loss  : 0.00099846\n",
      "epoch  3/30  |  Train Loss  : 0.00042856    |  Test Loss  : 0.00075790\n",
      "epoch  4/30  |  Train Loss  : 0.00080535    |  Test Loss  : 0.00027783\n",
      "epoch  5/30  |  Train Loss  : 0.00025703    |  Test Loss  : 0.00033620\n",
      "epoch  6/30  |  Train Loss  : 0.00030977    |  Test Loss  : 0.00021107\n",
      "epoch  7/30  |  Train Loss  : 0.00017510    |  Test Loss  : 0.00024648\n",
      "epoch  8/30  |  Train Loss  : 0.00020537    |  Test Loss  : 0.00013843\n",
      "epoch  9/30  |  Train Loss  : 0.00015281    |  Test Loss  : 0.00018766\n",
      "epoch 10/30  |  Train Loss  : 0.00015657    |  Test Loss  : 0.00011443\n",
      "epoch 11/30  |  Train Loss  : 0.00016750    |  Test Loss  : 0.00008047\n",
      "epoch 12/30  |  Train Loss  : 0.00013635    |  Test Loss  : 0.00011424\n",
      "epoch 13/30  |  Train Loss  : 0.00011366    |  Test Loss  : 0.00011049\n",
      "epoch 14/30  |  Train Loss  : 0.00010208    |  Test Loss  : 0.00011743\n",
      "epoch 15/30  |  Train Loss  : 0.00009863    |  Test Loss  : 0.00009072\n",
      "epoch 16/30  |  Train Loss  : 0.00008507    |  Test Loss  : 0.00010571\n",
      "epoch 17/30  |  Train Loss  : 0.00008480    |  Test Loss  : 0.00007652\n",
      "epoch 18/30  |  Train Loss  : 0.00008233    |  Test Loss  : 0.00007144\n",
      "epoch 19/30  |  Train Loss  : 0.00007659    |  Test Loss  : 0.00006510\n",
      "epoch 20/30  |  Train Loss  : 0.00006211    |  Test Loss  : 0.00009004\n",
      "epoch 21/30  |  Train Loss  : 0.00006359    |  Test Loss  : 0.00007797\n",
      "epoch 22/30  |  Train Loss  : 0.00006219    |  Test Loss  : 0.00007079\n",
      "epoch 23/30  |  Train Loss  : 0.00005816    |  Test Loss  : 0.00007097\n",
      "epoch 24/30  |  Train Loss  : 0.00006070    |  Test Loss  : 0.00006227\n",
      "epoch 25/30  |  Train Loss  : 0.00005936    |  Test Loss  : 0.00005762\n",
      "epoch 26/30  |  Train Loss  : 0.00005864    |  Test Loss  : 0.00005026\n",
      "epoch 27/30  |  Train Loss  : 0.00005810    |  Test Loss  : 0.00005781\n",
      "epoch 28/30  |  Train Loss  : 0.00005295    |  Test Loss  : 0.00005811\n",
      "epoch 29/30  |  Train Loss  : 0.00005151    |  Test Loss  : 0.00005961\n",
      "epoch 30/30  |  Train Loss  : 0.00005579    |  Test Loss  : 0.00004800\n"
     ]
    }
   ],
   "source": [
    "all_train_losses, all_test_losses = [], []\n",
    "\n",
    "for epoch in range(epochs):\n",
    "     x_train_batches, x_test_batches, y_train_batches, y_test_batches = data_loader_data_batches(path='data/turkish_stocks.csv', batch_size=50)\n",
    "     running_loss_train, running_loss_test = 0, 0\n",
    "     for x_train, y_train in zip(x_train_batches, y_train_batches):\n",
    "          optimizer.zero_grad()\n",
    "          train_prediction = model.forward(x_train)\n",
    "          train_loss = criterion(train_prediction, y_train)\n",
    "          train_loss.backward()\n",
    "          optimizer.step()\n",
    "          running_loss_train += train_loss.item()\n",
    "     \n",
    "     average_loss_train = running_loss_train/len(x_train_batches)\n",
    "     all_train_losses.append(average_loss_train)\n",
    "\n",
    "     model.eval()\n",
    "     with torch.no_grad():\n",
    "          for x_test, y_test in zip(x_test_batches, y_test_batches): \n",
    "               test_prediction = model.forward(x_test)\n",
    "               test_loss = criterion(test_prediction, y_test)\n",
    "               running_loss_test += test_loss.item()\n",
    "\n",
    "          average_loss_test = running_loss_test/len(x_test_batches)\n",
    "          all_test_losses.append(average_loss_test)\n",
    "     model.train()\n",
    "\n",
    "     print(f'epoch {epoch+1:2}/{epochs}  |  Train Loss  : {average_loss_train:.8f}    |  Test Loss  : {average_loss_test:.8f}')\n",
    "\n",
    "model_data = { \"model_state\": model.state_dict(), \"input_size\": 8}"
   ]
  },
  {
   "attachments": {},
   "cell_type": "markdown",
   "metadata": {},
   "source": [
    "## Save the Model"
   ]
  },
  {
   "cell_type": "code",
   "execution_count": 12,
   "metadata": {},
   "outputs": [],
   "source": [
    "model_data = { \"model_state\": model.state_dict(), \"input_size\": 8}\n",
    "torch.save(model_data, 'trained_model')"
   ]
  },
  {
   "attachments": {},
   "cell_type": "markdown",
   "metadata": {},
   "source": [
    "## Plot the Results"
   ]
  },
  {
   "cell_type": "code",
   "execution_count": 13,
   "metadata": {},
   "outputs": [
    {
     "data": {
      "image/png": "[encoded data removed]",
      "text/plain": [
       "<Figure size 640x480 with 1 Axes>"
      ]
     },
     "metadata": {},
     "output_type": "display_data"
    }
   ],
   "source": [
    "plt.plot(all_train_losses, label='Training')\n",
    "plt.plot(all_test_losses,  label='Testing')\n",
    "plt.legend()\n",
    "plt.show()"
   ]
  },
  {
   "attachments": {},
   "cell_type": "markdown",
   "metadata": {},
   "source": [
    "## Making Prediction"
   ]
  },
  {
   "attachments": {},
   "cell_type": "markdown",
   "metadata": {},
   "source": [
    "## Load Trained Model First"
   ]
  },
  {
   "cell_type": "code",
   "execution_count": 14,
   "metadata": {},
   "outputs": [
    {
     "data": {
      "text/plain": [
       "<All keys matched successfully>"
      ]
     },
     "execution_count": 14,
     "metadata": {},
     "output_type": "execute_result"
    }
   ],
   "source": [
    "import torch\n",
    "import numpy as np \n",
    "\n",
    "trained_model = torch.load('trained_model')\n",
    "model_state = trained_model['model_state']\n",
    "\n",
    "model = RegressionModel_2(8)\n",
    "model.load_state_dict(model_state)"
   ]
  },
  {
   "attachments": {},
   "cell_type": "markdown",
   "metadata": {},
   "source": [
    "## Create Dummy Data"
   ]
  },
  {
   "cell_type": "code",
   "execution_count": 15,
   "metadata": {},
   "outputs": [],
   "source": [
    "features = np.array([0.035753708, 0.038376187, -0.004679315, 0.003894376, 0, 0.031190229,0.012698039, 0.028524462]).astype(np.float32)\n",
    "features = torch.from_numpy(features)\n",
    "\n",
    "input_features = torch.tensor([0.035753708, 0.038376187, -0.004679315, 0.003894376, 0, 0.031190229,0.012698039, 0.028524462])\n",
    "target = 0.002193419"
   ]
  },
  {
   "attachments": {},
   "cell_type": "markdown",
   "metadata": {},
   "source": [
    "## Make Predictions"
   ]
  },
  {
   "cell_type": "code",
   "execution_count": 16,
   "metadata": {},
   "outputs": [
    {
     "name": "stdout",
     "output_type": "stream",
     "text": [
      "Prediction :  tensor([0.0176], grad_fn=<AddBackward0>)\n"
     ]
    }
   ],
   "source": [
    "prediction = model.forward(features)\n",
    "print('Prediction : ', prediction)"
   ]
  },
  {
   "cell_type": "code",
   "execution_count": 17,
   "metadata": {},
   "outputs": [
    {
     "name": "stdout",
     "output_type": "stream",
     "text": [
      "Prediction :  tensor([0.0176], grad_fn=<AddBackward0>)\n"
     ]
    }
   ],
   "source": [
    "prediction = model.forward(input_features)\n",
    "print('Prediction : ', prediction)"
   ]
  }
 ],
 "metadata": {
  "kernelspec": {
   "display_name": "deeplearning",
   "language": "python",
   "name": "python3"
  },
  "language_info": {
   "codemirror_mode": {
    "name": "ipython",
    "version": 3
   },
   "file_extension": ".py",
   "mimetype": "text/x-python",
   "name": "python",
   "nbconvert_exporter": "python",
   "pygments_lexer": "ipython3",
   "version": "3.8.13"
  },
  "orig_nbformat": 4
 },
 "nbformat": 4,
 "nbformat_minor": 2
}
